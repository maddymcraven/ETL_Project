{
 "cells": [
  {
   "cell_type": "code",
   "execution_count": 50,
   "metadata": {},
   "outputs": [],
   "source": [
    "import pandas as pd\n",
    "from sqlalchemy import create_engine\n",
    "from census import Census\n",
    "from config_file import (census_key)\n",
    "import us\n",
    "import requests"
   ]
  },
  {
   "cell_type": "code",
   "execution_count": 51,
   "metadata": {},
   "outputs": [
    {
     "output_type": "execute_result",
     "data": {
      "text/plain": "             UID iso2 iso3  code3     FIPS          Admin2  \\\n0             16   AS  ASM     16     60.0             NaN   \n1            316   GU  GUM    316     66.0             NaN   \n2            580   MP  MNP    580     69.0             NaN   \n3       63072001   PR  PRI    630  72001.0        Adjuntas   \n4       63072003   PR  PRI    630  72003.0          Aguada   \n...          ...  ...  ...    ...      ...             ...   \n627915  84070016   US  USA    840      NaN    Central Utah   \n627916  84070017   US  USA    840      NaN  Southeast Utah   \n627917  84070018   US  USA    840      NaN  Southwest Utah   \n627918  84070019   US  USA    840      NaN       TriCounty   \n627919  84070020   US  USA    840      NaN    Weber-Morgan   \n\n                  Province_State Country_Region        Lat       Long_  \\\n0                 American Samoa             US -14.271000 -170.132000   \n1                           Guam             US  13.444300  144.793700   \n2       Northern Mariana Islands             US  15.097900  145.673900   \n3                    Puerto Rico             US  18.180117  -66.754367   \n4                    Puerto Rico             US  18.360255  -67.175131   \n...                          ...            ...        ...         ...   \n627915                      Utah             US  39.372319 -111.575868   \n627916                      Utah             US  38.996171 -110.701396   \n627917                      Utah             US  37.854472 -111.441876   \n627918                      Utah             US  40.124915 -109.517442   \n627919                      Utah             US  41.271160 -111.914512   \n\n                        Combined_Key     Date  Confirmed  Deaths  \n0                 American Samoa, US  1/22/20          0       0  \n1                           Guam, US  1/22/20          0       0  \n2       Northern Mariana Islands, US  1/22/20          0       0  \n3          Adjuntas, Puerto Rico, US  1/22/20          0       0  \n4            Aguada, Puerto Rico, US  1/22/20          0       0  \n...                              ...      ...        ...     ...  \n627915        Central Utah, Utah, US  7/27/20        347       1  \n627916      Southeast Utah, Utah, US  7/27/20         70       0  \n627917      Southwest Utah, Utah, US  7/27/20       2781      23  \n627918           TriCounty, Utah, US  7/27/20        142       0  \n627919        Weber-Morgan, Utah, US  7/27/20       2375      24  \n\n[627920 rows x 14 columns]",
      "text/html": "<div>\n<style scoped>\n    .dataframe tbody tr th:only-of-type {\n        vertical-align: middle;\n    }\n\n    .dataframe tbody tr th {\n        vertical-align: top;\n    }\n\n    .dataframe thead th {\n        text-align: right;\n    }\n</style>\n<table border=\"1\" class=\"dataframe\">\n  <thead>\n    <tr style=\"text-align: right;\">\n      <th></th>\n      <th>UID</th>\n      <th>iso2</th>\n      <th>iso3</th>\n      <th>code3</th>\n      <th>FIPS</th>\n      <th>Admin2</th>\n      <th>Province_State</th>\n      <th>Country_Region</th>\n      <th>Lat</th>\n      <th>Long_</th>\n      <th>Combined_Key</th>\n      <th>Date</th>\n      <th>Confirmed</th>\n      <th>Deaths</th>\n    </tr>\n  </thead>\n  <tbody>\n    <tr>\n      <th>0</th>\n      <td>16</td>\n      <td>AS</td>\n      <td>ASM</td>\n      <td>16</td>\n      <td>60.0</td>\n      <td>NaN</td>\n      <td>American Samoa</td>\n      <td>US</td>\n      <td>-14.271000</td>\n      <td>-170.132000</td>\n      <td>American Samoa, US</td>\n      <td>1/22/20</td>\n      <td>0</td>\n      <td>0</td>\n    </tr>\n    <tr>\n      <th>1</th>\n      <td>316</td>\n      <td>GU</td>\n      <td>GUM</td>\n      <td>316</td>\n      <td>66.0</td>\n      <td>NaN</td>\n      <td>Guam</td>\n      <td>US</td>\n      <td>13.444300</td>\n      <td>144.793700</td>\n      <td>Guam, US</td>\n      <td>1/22/20</td>\n      <td>0</td>\n      <td>0</td>\n    </tr>\n    <tr>\n      <th>2</th>\n      <td>580</td>\n      <td>MP</td>\n      <td>MNP</td>\n      <td>580</td>\n      <td>69.0</td>\n      <td>NaN</td>\n      <td>Northern Mariana Islands</td>\n      <td>US</td>\n      <td>15.097900</td>\n      <td>145.673900</td>\n      <td>Northern Mariana Islands, US</td>\n      <td>1/22/20</td>\n      <td>0</td>\n      <td>0</td>\n    </tr>\n    <tr>\n      <th>3</th>\n      <td>63072001</td>\n      <td>PR</td>\n      <td>PRI</td>\n      <td>630</td>\n      <td>72001.0</td>\n      <td>Adjuntas</td>\n      <td>Puerto Rico</td>\n      <td>US</td>\n      <td>18.180117</td>\n      <td>-66.754367</td>\n      <td>Adjuntas, Puerto Rico, US</td>\n      <td>1/22/20</td>\n      <td>0</td>\n      <td>0</td>\n    </tr>\n    <tr>\n      <th>4</th>\n      <td>63072003</td>\n      <td>PR</td>\n      <td>PRI</td>\n      <td>630</td>\n      <td>72003.0</td>\n      <td>Aguada</td>\n      <td>Puerto Rico</td>\n      <td>US</td>\n      <td>18.360255</td>\n      <td>-67.175131</td>\n      <td>Aguada, Puerto Rico, US</td>\n      <td>1/22/20</td>\n      <td>0</td>\n      <td>0</td>\n    </tr>\n    <tr>\n      <th>...</th>\n      <td>...</td>\n      <td>...</td>\n      <td>...</td>\n      <td>...</td>\n      <td>...</td>\n      <td>...</td>\n      <td>...</td>\n      <td>...</td>\n      <td>...</td>\n      <td>...</td>\n      <td>...</td>\n      <td>...</td>\n      <td>...</td>\n      <td>...</td>\n    </tr>\n    <tr>\n      <th>627915</th>\n      <td>84070016</td>\n      <td>US</td>\n      <td>USA</td>\n      <td>840</td>\n      <td>NaN</td>\n      <td>Central Utah</td>\n      <td>Utah</td>\n      <td>US</td>\n      <td>39.372319</td>\n      <td>-111.575868</td>\n      <td>Central Utah, Utah, US</td>\n      <td>7/27/20</td>\n      <td>347</td>\n      <td>1</td>\n    </tr>\n    <tr>\n      <th>627916</th>\n      <td>84070017</td>\n      <td>US</td>\n      <td>USA</td>\n      <td>840</td>\n      <td>NaN</td>\n      <td>Southeast Utah</td>\n      <td>Utah</td>\n      <td>US</td>\n      <td>38.996171</td>\n      <td>-110.701396</td>\n      <td>Southeast Utah, Utah, US</td>\n      <td>7/27/20</td>\n      <td>70</td>\n      <td>0</td>\n    </tr>\n    <tr>\n      <th>627917</th>\n      <td>84070018</td>\n      <td>US</td>\n      <td>USA</td>\n      <td>840</td>\n      <td>NaN</td>\n      <td>Southwest Utah</td>\n      <td>Utah</td>\n      <td>US</td>\n      <td>37.854472</td>\n      <td>-111.441876</td>\n      <td>Southwest Utah, Utah, US</td>\n      <td>7/27/20</td>\n      <td>2781</td>\n      <td>23</td>\n    </tr>\n    <tr>\n      <th>627918</th>\n      <td>84070019</td>\n      <td>US</td>\n      <td>USA</td>\n      <td>840</td>\n      <td>NaN</td>\n      <td>TriCounty</td>\n      <td>Utah</td>\n      <td>US</td>\n      <td>40.124915</td>\n      <td>-109.517442</td>\n      <td>TriCounty, Utah, US</td>\n      <td>7/27/20</td>\n      <td>142</td>\n      <td>0</td>\n    </tr>\n    <tr>\n      <th>627919</th>\n      <td>84070020</td>\n      <td>US</td>\n      <td>USA</td>\n      <td>840</td>\n      <td>NaN</td>\n      <td>Weber-Morgan</td>\n      <td>Utah</td>\n      <td>US</td>\n      <td>41.271160</td>\n      <td>-111.914512</td>\n      <td>Weber-Morgan, Utah, US</td>\n      <td>7/27/20</td>\n      <td>2375</td>\n      <td>24</td>\n    </tr>\n  </tbody>\n</table>\n<p>627920 rows × 14 columns</p>\n</div>"
     },
     "metadata": {},
     "execution_count": 51
    }
   ],
   "source": [
    "#load file\n",
    "file_path = 'usa_county_wise.csv'\n",
    "covid_data = pd.read_csv(file_path)\n",
    "covid_data"
   ]
  },
  {
   "cell_type": "code",
   "execution_count": 52,
   "metadata": {},
   "outputs": [],
   "source": [
    "#clean data\n",
    "filter = (covid_data.iso2 == \"US\")\n",
    "c1 = covid_data[filter]\n",
    "c2 = c1[['FIPS', 'Admin2', 'Province_State', 'Lat', 'Long_', 'Date', 'Confirmed', 'Deaths']]\n",
    "c3 = c2.rename(columns ={\n",
    "    \"Admin2\":\"city\",\n",
    "    \"Province_State\":\"state\",\n",
    "    \"Long_\":\"lng\",\n",
    "    \"Lat\":'lat'\n",
    "})\n",
    "filter =  (c3.Date == \"7/27/20\")\n",
    "c4 = c3[filter]\n",
    "c5 = c4.dropna()\n",
    "c6 = c5.reset_index()\n",
    "c6.FIPS = c6.FIPS.astype(int)\n",
    "\n",
    "\n",
    "covid_clean = c6"
   ]
  },
  {
   "cell_type": "code",
   "execution_count": 53,
   "metadata": {},
   "outputs": [],
   "source": [
    "# Census API Key\n",
    "c = Census(census_key, year=2018)\n",
    "\n",
    "# US states abbrv mapping\n",
    "states = us.states.mapping('abbr', 'name')\n",
    "states = {state: abbrev for abbrev, state in states.items()}"
   ]
  },
  {
   "cell_type": "code",
   "execution_count": 54,
   "metadata": {},
   "outputs": [
    {
     "output_type": "execute_result",
     "data": {
      "text/plain": "                                Name State ID County ID  Population  \\\n0     Washington County, Mississippi       28       151     47086.0   \n1          Perry County, Mississippi       28       111     12028.0   \n2        Choctaw County, Mississippi       28       019      8321.0   \n3       Itawamba County, Mississippi       28       057     23480.0   \n4        Carroll County, Mississippi       28       015     10129.0   \n...                              ...      ...       ...         ...   \n3215            Clayton County, Iowa       19       043     17672.0   \n3216        Buena Vista County, Iowa       19       021     20260.0   \n3217            Guthrie County, Iowa       19       077     10674.0   \n3218           Humboldt County, Iowa       19       091      9566.0   \n3219         Washington County, Iowa       19       183     22143.0   \n\n      Poverty Rate  \n0        32.909994  \n1        18.548387  \n2        22.689581  \n3        14.599659  \n4        14.581894  \n...            ...  \n3215      8.850158  \n3216     12.374136  \n3217     11.008057  \n3218     11.530420  \n3219      9.127038  \n\n[3219 rows x 5 columns]",
      "text/html": "<div>\n<style scoped>\n    .dataframe tbody tr th:only-of-type {\n        vertical-align: middle;\n    }\n\n    .dataframe tbody tr th {\n        vertical-align: top;\n    }\n\n    .dataframe thead th {\n        text-align: right;\n    }\n</style>\n<table border=\"1\" class=\"dataframe\">\n  <thead>\n    <tr style=\"text-align: right;\">\n      <th></th>\n      <th>Name</th>\n      <th>State ID</th>\n      <th>County ID</th>\n      <th>Population</th>\n      <th>Poverty Rate</th>\n    </tr>\n  </thead>\n  <tbody>\n    <tr>\n      <th>0</th>\n      <td>Washington County, Mississippi</td>\n      <td>28</td>\n      <td>151</td>\n      <td>47086.0</td>\n      <td>32.909994</td>\n    </tr>\n    <tr>\n      <th>1</th>\n      <td>Perry County, Mississippi</td>\n      <td>28</td>\n      <td>111</td>\n      <td>12028.0</td>\n      <td>18.548387</td>\n    </tr>\n    <tr>\n      <th>2</th>\n      <td>Choctaw County, Mississippi</td>\n      <td>28</td>\n      <td>019</td>\n      <td>8321.0</td>\n      <td>22.689581</td>\n    </tr>\n    <tr>\n      <th>3</th>\n      <td>Itawamba County, Mississippi</td>\n      <td>28</td>\n      <td>057</td>\n      <td>23480.0</td>\n      <td>14.599659</td>\n    </tr>\n    <tr>\n      <th>4</th>\n      <td>Carroll County, Mississippi</td>\n      <td>28</td>\n      <td>015</td>\n      <td>10129.0</td>\n      <td>14.581894</td>\n    </tr>\n    <tr>\n      <th>...</th>\n      <td>...</td>\n      <td>...</td>\n      <td>...</td>\n      <td>...</td>\n      <td>...</td>\n    </tr>\n    <tr>\n      <th>3215</th>\n      <td>Clayton County, Iowa</td>\n      <td>19</td>\n      <td>043</td>\n      <td>17672.0</td>\n      <td>8.850158</td>\n    </tr>\n    <tr>\n      <th>3216</th>\n      <td>Buena Vista County, Iowa</td>\n      <td>19</td>\n      <td>021</td>\n      <td>20260.0</td>\n      <td>12.374136</td>\n    </tr>\n    <tr>\n      <th>3217</th>\n      <td>Guthrie County, Iowa</td>\n      <td>19</td>\n      <td>077</td>\n      <td>10674.0</td>\n      <td>11.008057</td>\n    </tr>\n    <tr>\n      <th>3218</th>\n      <td>Humboldt County, Iowa</td>\n      <td>19</td>\n      <td>091</td>\n      <td>9566.0</td>\n      <td>11.530420</td>\n    </tr>\n    <tr>\n      <th>3219</th>\n      <td>Washington County, Iowa</td>\n      <td>19</td>\n      <td>183</td>\n      <td>22143.0</td>\n      <td>9.127038</td>\n    </tr>\n  </tbody>\n</table>\n<p>3219 rows × 5 columns</p>\n</div>"
     },
     "metadata": {},
     "execution_count": 54
    }
   ],
   "source": [
    "# Census search for poverty data based on state, county, fips data\n",
    "census_data_fips = c.acs5.get((\"NAME\", \"B01003_001E\", \"B17001_002E\"), {'for': 'state:*', 'for':'county:*'})\n",
    "\n",
    "# Convert to DataFrame\n",
    "census_fips_pd = pd.DataFrame(census_data_fips)\n",
    "\n",
    "# Column Reordering\n",
    "census_fips_pd = census_fips_pd.rename(columns={\"B01003_001E\": \"Population\",\n",
    "                                      \"B17001_002E\": \"Poverty Count\",\n",
    "                                      \"NAME\": \"Name\",\n",
    "                                      \"state\": \"State ID\",\n",
    "                                      \"county\": \"County ID\"})\n",
    "\n",
    "# Drop any rows with NAN\n",
    "census_fips_pd.dropna(how='any', inplace=True)\n",
    "\n",
    "# Add in Poverty Rate (Poverty Count / Population)\n",
    "census_fips_pd[\"Poverty Rate\"] = 100 * (census_fips_pd[\"Poverty Count\"].astype(\n",
    "        int) / census_fips_pd[\"Population\"].astype(int))\n",
    "\n",
    "# Final DataFrame\n",
    "census_fips_pd = census_fips_pd[[\"Name\", \"State ID\", \"County ID\", \"Population\", \"Poverty Rate\"]]\n",
    "\n",
    "census_fips_pd"
   ]
  },
  {
   "cell_type": "code",
   "execution_count": 55,
   "metadata": {},
   "outputs": [
    {
     "output_type": "execute_result",
     "data": {
      "text/plain": "     State       County   FIPS  Population  Poverty Rate\n0       MS   Washington  28151     47086.0     32.909994\n1       MS        Perry  28111     12028.0     18.548387\n2       MS      Choctaw  28019      8321.0     22.689581\n3       MS     Itawamba  28057     23480.0     14.599659\n4       MS      Carroll  28015     10129.0     14.581894\n...    ...          ...    ...         ...           ...\n3215    IA      Clayton  19043     17672.0      8.850158\n3216    IA  Buena Vista  19021     20260.0     12.374136\n3217    IA      Guthrie  19077     10674.0     11.008057\n3218    IA     Humboldt  19091      9566.0     11.530420\n3219    IA   Washington  19183     22143.0      9.127038\n\n[3141 rows x 5 columns]",
      "text/html": "<div>\n<style scoped>\n    .dataframe tbody tr th:only-of-type {\n        vertical-align: middle;\n    }\n\n    .dataframe tbody tr th {\n        vertical-align: top;\n    }\n\n    .dataframe thead th {\n        text-align: right;\n    }\n</style>\n<table border=\"1\" class=\"dataframe\">\n  <thead>\n    <tr style=\"text-align: right;\">\n      <th></th>\n      <th>State</th>\n      <th>County</th>\n      <th>FIPS</th>\n      <th>Population</th>\n      <th>Poverty Rate</th>\n    </tr>\n  </thead>\n  <tbody>\n    <tr>\n      <th>0</th>\n      <td>MS</td>\n      <td>Washington</td>\n      <td>28151</td>\n      <td>47086.0</td>\n      <td>32.909994</td>\n    </tr>\n    <tr>\n      <th>1</th>\n      <td>MS</td>\n      <td>Perry</td>\n      <td>28111</td>\n      <td>12028.0</td>\n      <td>18.548387</td>\n    </tr>\n    <tr>\n      <th>2</th>\n      <td>MS</td>\n      <td>Choctaw</td>\n      <td>28019</td>\n      <td>8321.0</td>\n      <td>22.689581</td>\n    </tr>\n    <tr>\n      <th>3</th>\n      <td>MS</td>\n      <td>Itawamba</td>\n      <td>28057</td>\n      <td>23480.0</td>\n      <td>14.599659</td>\n    </tr>\n    <tr>\n      <th>4</th>\n      <td>MS</td>\n      <td>Carroll</td>\n      <td>28015</td>\n      <td>10129.0</td>\n      <td>14.581894</td>\n    </tr>\n    <tr>\n      <th>...</th>\n      <td>...</td>\n      <td>...</td>\n      <td>...</td>\n      <td>...</td>\n      <td>...</td>\n    </tr>\n    <tr>\n      <th>3215</th>\n      <td>IA</td>\n      <td>Clayton</td>\n      <td>19043</td>\n      <td>17672.0</td>\n      <td>8.850158</td>\n    </tr>\n    <tr>\n      <th>3216</th>\n      <td>IA</td>\n      <td>Buena Vista</td>\n      <td>19021</td>\n      <td>20260.0</td>\n      <td>12.374136</td>\n    </tr>\n    <tr>\n      <th>3217</th>\n      <td>IA</td>\n      <td>Guthrie</td>\n      <td>19077</td>\n      <td>10674.0</td>\n      <td>11.008057</td>\n    </tr>\n    <tr>\n      <th>3218</th>\n      <td>IA</td>\n      <td>Humboldt</td>\n      <td>19091</td>\n      <td>9566.0</td>\n      <td>11.530420</td>\n    </tr>\n    <tr>\n      <th>3219</th>\n      <td>IA</td>\n      <td>Washington</td>\n      <td>19183</td>\n      <td>22143.0</td>\n      <td>9.127038</td>\n    </tr>\n  </tbody>\n</table>\n<p>3141 rows × 5 columns</p>\n</div>"
     },
     "metadata": {},
     "execution_count": 55
    }
   ],
   "source": [
    "# Data Cleanup\n",
    "def get_county(address):\n",
    "    county = address.split(\"County\")[0].strip(\" \")\n",
    "    county = strip_state(county)\n",
    "    return county\n",
    "\n",
    "def strip_state(address):\n",
    "    return address.split(\",\")[0].strip(\" \")\n",
    "\n",
    "def get_state(address):\n",
    "    state = address.split(\",\")[1]\n",
    "    # Special case for District of Columbia\n",
    "    state = state[1:]\n",
    "    return state\n",
    "\n",
    "census_fips_pd['County'] = census_fips_pd['Name'].apply(lambda x: f\"{get_county(x)}\")\n",
    "census_fips_pd['State Name'] = census_fips_pd['Name'].apply(lambda x: f\"{get_state(x)}\")\n",
    "\n",
    "#Drop PR\n",
    "indicesPR = census_fips_pd.index[census_fips_pd['State ID'] == '72' ].tolist()\n",
    "census_fips_pd.drop(indicesPR, inplace=True)\n",
    "\n",
    "# Get state abbreviations\n",
    "census_fips_pd['State'] = census_fips_pd['State Name'].map(states)\n",
    "\n",
    "census_clean_pd = census_fips_pd.drop(['Name', 'State Name'], inplace=False, axis = 1)\n",
    "\n",
    "census_clean_pd = census_clean_pd[[\"State\", \"State ID\", \"County\", \"County ID\", \"Population\", \"Poverty Rate\"]]\n",
    "\n",
    "census_clean_pd['FIPS'] = census_clean_pd['State ID'] + census_clean_pd['County ID']\n",
    "\n",
    "census_clean_pd = census_clean_pd[[\"State\", \"County\", \"FIPS\", \"Population\", \"Poverty Rate\"]]\n",
    "\n",
    "census_clean_pd"
   ]
  },
  {
   "cell_type": "code",
   "execution_count": 56,
   "metadata": {},
   "outputs": [],
   "source": [
    "census_clean_pd.FIPS = census_clean_pd.FIPS.astype(int)\n",
    "\n",
    "merged_df = pd.merge(census_clean_pd, covid_clean, how='inner', on=['FIPS','FIPS'])"
   ]
  },
  {
   "cell_type": "code",
   "execution_count": 57,
   "metadata": {},
   "outputs": [
    {
     "output_type": "execute_result",
     "data": {
      "text/plain": "       fips  confirmed  deaths  poverty_rate state       county\n0     28151       1283      24     32.909994    MS   Washington\n1     28111        179       7     18.548387    MS        Perry\n2     28019        106       4     22.689581    MS      Choctaw\n3     28057        257       9     14.599659    MS     Itawamba\n4     28015        232      11     14.581894    MS      Carroll\n...     ...        ...     ...           ...   ...          ...\n3136  19043         82       3      8.850158    IA      Clayton\n3137  19021       1776      12     12.374136    IA  Buena Vista\n3138  19077        122       5     11.008057    IA      Guthrie\n3139  19091         82       1     11.530420    IA     Humboldt\n3140  19183        280       9      9.127038    IA   Washington\n\n[3141 rows x 6 columns]",
      "text/html": "<div>\n<style scoped>\n    .dataframe tbody tr th:only-of-type {\n        vertical-align: middle;\n    }\n\n    .dataframe tbody tr th {\n        vertical-align: top;\n    }\n\n    .dataframe thead th {\n        text-align: right;\n    }\n</style>\n<table border=\"1\" class=\"dataframe\">\n  <thead>\n    <tr style=\"text-align: right;\">\n      <th></th>\n      <th>fips</th>\n      <th>confirmed</th>\n      <th>deaths</th>\n      <th>poverty_rate</th>\n      <th>state</th>\n      <th>county</th>\n    </tr>\n  </thead>\n  <tbody>\n    <tr>\n      <th>0</th>\n      <td>28151</td>\n      <td>1283</td>\n      <td>24</td>\n      <td>32.909994</td>\n      <td>MS</td>\n      <td>Washington</td>\n    </tr>\n    <tr>\n      <th>1</th>\n      <td>28111</td>\n      <td>179</td>\n      <td>7</td>\n      <td>18.548387</td>\n      <td>MS</td>\n      <td>Perry</td>\n    </tr>\n    <tr>\n      <th>2</th>\n      <td>28019</td>\n      <td>106</td>\n      <td>4</td>\n      <td>22.689581</td>\n      <td>MS</td>\n      <td>Choctaw</td>\n    </tr>\n    <tr>\n      <th>3</th>\n      <td>28057</td>\n      <td>257</td>\n      <td>9</td>\n      <td>14.599659</td>\n      <td>MS</td>\n      <td>Itawamba</td>\n    </tr>\n    <tr>\n      <th>4</th>\n      <td>28015</td>\n      <td>232</td>\n      <td>11</td>\n      <td>14.581894</td>\n      <td>MS</td>\n      <td>Carroll</td>\n    </tr>\n    <tr>\n      <th>...</th>\n      <td>...</td>\n      <td>...</td>\n      <td>...</td>\n      <td>...</td>\n      <td>...</td>\n      <td>...</td>\n    </tr>\n    <tr>\n      <th>3136</th>\n      <td>19043</td>\n      <td>82</td>\n      <td>3</td>\n      <td>8.850158</td>\n      <td>IA</td>\n      <td>Clayton</td>\n    </tr>\n    <tr>\n      <th>3137</th>\n      <td>19021</td>\n      <td>1776</td>\n      <td>12</td>\n      <td>12.374136</td>\n      <td>IA</td>\n      <td>Buena Vista</td>\n    </tr>\n    <tr>\n      <th>3138</th>\n      <td>19077</td>\n      <td>122</td>\n      <td>5</td>\n      <td>11.008057</td>\n      <td>IA</td>\n      <td>Guthrie</td>\n    </tr>\n    <tr>\n      <th>3139</th>\n      <td>19091</td>\n      <td>82</td>\n      <td>1</td>\n      <td>11.530420</td>\n      <td>IA</td>\n      <td>Humboldt</td>\n    </tr>\n    <tr>\n      <th>3140</th>\n      <td>19183</td>\n      <td>280</td>\n      <td>9</td>\n      <td>9.127038</td>\n      <td>IA</td>\n      <td>Washington</td>\n    </tr>\n  </tbody>\n</table>\n<p>3141 rows × 6 columns</p>\n</div>"
     },
     "metadata": {},
     "execution_count": 57
    }
   ],
   "source": [
    "#clean merged df\n",
    "merged_df = merged_df[['FIPS', 'Confirmed', 'Deaths', 'Poverty Rate', 'State', 'County']]\n",
    "merged_df.rename(columns={'FIPS': 'fips', 'Confirmed': 'confirmed', 'Deaths': 'deaths', 'Poverty Rate': 'poverty_rate', 'State': 'state', 'County': 'county'}, inplace=True)\n",
    "merged_df"
   ]
  },
  {
   "cell_type": "code",
   "execution_count": 58,
   "metadata": {},
   "outputs": [
    {
     "output_type": "error",
     "ename": "IntegrityError",
     "evalue": "(psycopg2.errors.UniqueViolation) duplicate key value violates unique constraint \"covid_census_pkey\"\nDETAIL:  Key (fips)=(28151) already exists.\n\n[SQL: INSERT INTO covid_census (fips, confirmed, deaths, poverty_rate, state, county) VALUES (%(fips)s, %(confirmed)s, %(deaths)s, %(poverty_rate)s, %(state)s, %(county)s)]\n[parameters: ({'fips': 28151, 'confirmed': 1283, 'deaths': 24, 'poverty_rate': 32.90999447818885, 'state': 'MS', 'county': 'Washington'}, {'fips': 28111, 'confirmed': 179, 'deaths': 7, 'poverty_rate': 18.548387096774192, 'state': 'MS', 'county': 'Perry'}, {'fips': 28019, 'confirmed': 106, 'deaths': 4, 'poverty_rate': 22.689580579257303, 'state': 'MS', 'county': 'Choctaw'}, {'fips': 28057, 'confirmed': 257, 'deaths': 9, 'poverty_rate': 14.599659284497445, 'state': 'MS', 'county': 'Itawamba'}, {'fips': 28015, 'confirmed': 232, 'deaths': 11, 'poverty_rate': 14.581893572909468, 'state': 'MS', 'county': 'Carroll'}, {'fips': 28043, 'confirmed': 770, 'deaths': 17, 'poverty_rate': 23.921421186201712, 'state': 'MS', 'county': 'Grenada'}, {'fips': 28063, 'confirmed': 166, 'deaths': 4, 'poverty_rate': 46.5287231146202, 'state': 'MS', 'county': 'Jefferson'}, {'fips': 28041, 'confirmed': 200, 'deaths': 10, 'poverty_rate': 10.755432404841768, 'state': 'MS', 'county': 'Greene'}  ... displaying 10 of 3141 total bound parameter sets ...  {'fips': 19091, 'confirmed': 82, 'deaths': 1, 'poverty_rate': 11.530420238344135, 'state': 'IA', 'county': 'Humboldt'}, {'fips': 19183, 'confirmed': 280, 'deaths': 9, 'poverty_rate': 9.127037890078128, 'state': 'IA', 'county': 'Washington'})]\n(Background on this error at: http://sqlalche.me/e/gkpj)",
     "traceback": [
      "\u001b[1;31m---------------------------------------------------------------------------\u001b[0m",
      "\u001b[1;31mUniqueViolation\u001b[0m                           Traceback (most recent call last)",
      "\u001b[1;32m~\\Anaconda3\\envs\\PythonData\\lib\\site-packages\\sqlalchemy\\engine\\base.py\u001b[0m in \u001b[0;36m_execute_context\u001b[1;34m(self, dialect, constructor, statement, parameters, *args)\u001b[0m\n\u001b[0;32m   1227\u001b[0m                     self.dialect.do_executemany(\n\u001b[1;32m-> 1228\u001b[1;33m                         \u001b[0mcursor\u001b[0m\u001b[1;33m,\u001b[0m \u001b[0mstatement\u001b[0m\u001b[1;33m,\u001b[0m \u001b[0mparameters\u001b[0m\u001b[1;33m,\u001b[0m \u001b[0mcontext\u001b[0m\u001b[1;33m\u001b[0m\u001b[1;33m\u001b[0m\u001b[0m\n\u001b[0m\u001b[0;32m   1229\u001b[0m                     )\n",
      "\u001b[1;32m~\\Anaconda3\\envs\\PythonData\\lib\\site-packages\\sqlalchemy\\dialects\\postgresql\\psycopg2.py\u001b[0m in \u001b[0;36mdo_executemany\u001b[1;34m(self, cursor, statement, parameters, context)\u001b[0m\n\u001b[0;32m    856\u001b[0m         \u001b[1;32mif\u001b[0m \u001b[0mself\u001b[0m\u001b[1;33m.\u001b[0m\u001b[0mexecutemany_mode\u001b[0m \u001b[1;32mis\u001b[0m \u001b[0mEXECUTEMANY_DEFAULT\u001b[0m\u001b[1;33m:\u001b[0m\u001b[1;33m\u001b[0m\u001b[1;33m\u001b[0m\u001b[0m\n\u001b[1;32m--> 857\u001b[1;33m             \u001b[0mcursor\u001b[0m\u001b[1;33m.\u001b[0m\u001b[0mexecutemany\u001b[0m\u001b[1;33m(\u001b[0m\u001b[0mstatement\u001b[0m\u001b[1;33m,\u001b[0m \u001b[0mparameters\u001b[0m\u001b[1;33m)\u001b[0m\u001b[1;33m\u001b[0m\u001b[1;33m\u001b[0m\u001b[0m\n\u001b[0m\u001b[0;32m    858\u001b[0m             \u001b[1;32mreturn\u001b[0m\u001b[1;33m\u001b[0m\u001b[1;33m\u001b[0m\u001b[0m\n",
      "\u001b[1;31mUniqueViolation\u001b[0m: duplicate key value violates unique constraint \"covid_census_pkey\"\nDETAIL:  Key (fips)=(28151) already exists.\n",
      "\nThe above exception was the direct cause of the following exception:\n",
      "\u001b[1;31mIntegrityError\u001b[0m                            Traceback (most recent call last)",
      "\u001b[1;32m<ipython-input-58-0a347b2ed31d>\u001b[0m in \u001b[0;36m<module>\u001b[1;34m\u001b[0m\n\u001b[0;32m      3\u001b[0m \u001b[0mengine\u001b[0m \u001b[1;33m=\u001b[0m \u001b[0mcreate_engine\u001b[0m\u001b[1;33m(\u001b[0m\u001b[1;34mf'postgresql://{rds_connection_string}'\u001b[0m\u001b[1;33m)\u001b[0m\u001b[1;33m\u001b[0m\u001b[1;33m\u001b[0m\u001b[0m\n\u001b[0;32m      4\u001b[0m \u001b[0mengine\u001b[0m\u001b[1;33m.\u001b[0m\u001b[0mtable_names\u001b[0m\u001b[1;33m(\u001b[0m\u001b[1;33m)\u001b[0m\u001b[1;33m\u001b[0m\u001b[1;33m\u001b[0m\u001b[0m\n\u001b[1;32m----> 5\u001b[1;33m \u001b[0mmerged_df\u001b[0m\u001b[1;33m.\u001b[0m\u001b[0mto_sql\u001b[0m\u001b[1;33m(\u001b[0m\u001b[0mname\u001b[0m\u001b[1;33m=\u001b[0m\u001b[1;34m'covid_census'\u001b[0m\u001b[1;33m,\u001b[0m \u001b[0mcon\u001b[0m\u001b[1;33m=\u001b[0m\u001b[0mengine\u001b[0m\u001b[1;33m,\u001b[0m \u001b[0mif_exists\u001b[0m\u001b[1;33m=\u001b[0m\u001b[1;34m'append'\u001b[0m\u001b[1;33m,\u001b[0m \u001b[0mindex\u001b[0m\u001b[1;33m=\u001b[0m\u001b[1;32mFalse\u001b[0m\u001b[1;33m)\u001b[0m\u001b[1;33m\u001b[0m\u001b[1;33m\u001b[0m\u001b[0m\n\u001b[0m\u001b[0;32m      6\u001b[0m \u001b[0mpd\u001b[0m\u001b[1;33m.\u001b[0m\u001b[0mread_sql_query\u001b[0m\u001b[1;33m(\u001b[0m\u001b[1;34m'select * from covid_census'\u001b[0m\u001b[1;33m,\u001b[0m \u001b[0mcon\u001b[0m\u001b[1;33m=\u001b[0m\u001b[0mengine\u001b[0m\u001b[1;33m)\u001b[0m\u001b[1;33m.\u001b[0m\u001b[0mhead\u001b[0m\u001b[1;33m(\u001b[0m\u001b[1;33m)\u001b[0m\u001b[1;33m\u001b[0m\u001b[1;33m\u001b[0m\u001b[0m\n",
      "\u001b[1;32m~\\Anaconda3\\envs\\PythonData\\lib\\site-packages\\pandas\\core\\generic.py\u001b[0m in \u001b[0;36mto_sql\u001b[1;34m(self, name, con, schema, if_exists, index, index_label, chunksize, dtype, method)\u001b[0m\n\u001b[0;32m   2661\u001b[0m             \u001b[0mchunksize\u001b[0m\u001b[1;33m=\u001b[0m\u001b[0mchunksize\u001b[0m\u001b[1;33m,\u001b[0m\u001b[1;33m\u001b[0m\u001b[1;33m\u001b[0m\u001b[0m\n\u001b[0;32m   2662\u001b[0m             \u001b[0mdtype\u001b[0m\u001b[1;33m=\u001b[0m\u001b[0mdtype\u001b[0m\u001b[1;33m,\u001b[0m\u001b[1;33m\u001b[0m\u001b[1;33m\u001b[0m\u001b[0m\n\u001b[1;32m-> 2663\u001b[1;33m             \u001b[0mmethod\u001b[0m\u001b[1;33m=\u001b[0m\u001b[0mmethod\u001b[0m\u001b[1;33m,\u001b[0m\u001b[1;33m\u001b[0m\u001b[1;33m\u001b[0m\u001b[0m\n\u001b[0m\u001b[0;32m   2664\u001b[0m         )\n\u001b[0;32m   2665\u001b[0m \u001b[1;33m\u001b[0m\u001b[0m\n",
      "\u001b[1;32m~\\Anaconda3\\envs\\PythonData\\lib\\site-packages\\pandas\\io\\sql.py\u001b[0m in \u001b[0;36mto_sql\u001b[1;34m(frame, name, con, schema, if_exists, index, index_label, chunksize, dtype, method)\u001b[0m\n\u001b[0;32m    519\u001b[0m         \u001b[0mchunksize\u001b[0m\u001b[1;33m=\u001b[0m\u001b[0mchunksize\u001b[0m\u001b[1;33m,\u001b[0m\u001b[1;33m\u001b[0m\u001b[1;33m\u001b[0m\u001b[0m\n\u001b[0;32m    520\u001b[0m         \u001b[0mdtype\u001b[0m\u001b[1;33m=\u001b[0m\u001b[0mdtype\u001b[0m\u001b[1;33m,\u001b[0m\u001b[1;33m\u001b[0m\u001b[1;33m\u001b[0m\u001b[0m\n\u001b[1;32m--> 521\u001b[1;33m         \u001b[0mmethod\u001b[0m\u001b[1;33m=\u001b[0m\u001b[0mmethod\u001b[0m\u001b[1;33m,\u001b[0m\u001b[1;33m\u001b[0m\u001b[1;33m\u001b[0m\u001b[0m\n\u001b[0m\u001b[0;32m    522\u001b[0m     )\n\u001b[0;32m    523\u001b[0m \u001b[1;33m\u001b[0m\u001b[0m\n",
      "\u001b[1;32m~\\Anaconda3\\envs\\PythonData\\lib\\site-packages\\pandas\\io\\sql.py\u001b[0m in \u001b[0;36mto_sql\u001b[1;34m(self, frame, name, if_exists, index, index_label, schema, chunksize, dtype, method)\u001b[0m\n\u001b[0;32m   1315\u001b[0m         )\n\u001b[0;32m   1316\u001b[0m         \u001b[0mtable\u001b[0m\u001b[1;33m.\u001b[0m\u001b[0mcreate\u001b[0m\u001b[1;33m(\u001b[0m\u001b[1;33m)\u001b[0m\u001b[1;33m\u001b[0m\u001b[1;33m\u001b[0m\u001b[0m\n\u001b[1;32m-> 1317\u001b[1;33m         \u001b[0mtable\u001b[0m\u001b[1;33m.\u001b[0m\u001b[0minsert\u001b[0m\u001b[1;33m(\u001b[0m\u001b[0mchunksize\u001b[0m\u001b[1;33m,\u001b[0m \u001b[0mmethod\u001b[0m\u001b[1;33m=\u001b[0m\u001b[0mmethod\u001b[0m\u001b[1;33m)\u001b[0m\u001b[1;33m\u001b[0m\u001b[1;33m\u001b[0m\u001b[0m\n\u001b[0m\u001b[0;32m   1318\u001b[0m         \u001b[1;32mif\u001b[0m \u001b[1;32mnot\u001b[0m \u001b[0mname\u001b[0m\u001b[1;33m.\u001b[0m\u001b[0misdigit\u001b[0m\u001b[1;33m(\u001b[0m\u001b[1;33m)\u001b[0m \u001b[1;32mand\u001b[0m \u001b[1;32mnot\u001b[0m \u001b[0mname\u001b[0m\u001b[1;33m.\u001b[0m\u001b[0mislower\u001b[0m\u001b[1;33m(\u001b[0m\u001b[1;33m)\u001b[0m\u001b[1;33m:\u001b[0m\u001b[1;33m\u001b[0m\u001b[1;33m\u001b[0m\u001b[0m\n\u001b[0;32m   1319\u001b[0m             \u001b[1;31m# check for potentially case sensitivity issues (GH7815)\u001b[0m\u001b[1;33m\u001b[0m\u001b[1;33m\u001b[0m\u001b[1;33m\u001b[0m\u001b[0m\n",
      "\u001b[1;32m~\\Anaconda3\\envs\\PythonData\\lib\\site-packages\\pandas\\io\\sql.py\u001b[0m in \u001b[0;36minsert\u001b[1;34m(self, chunksize, method)\u001b[0m\n\u001b[0;32m    753\u001b[0m \u001b[1;33m\u001b[0m\u001b[0m\n\u001b[0;32m    754\u001b[0m                 \u001b[0mchunk_iter\u001b[0m \u001b[1;33m=\u001b[0m \u001b[0mzip\u001b[0m\u001b[1;33m(\u001b[0m\u001b[1;33m*\u001b[0m\u001b[1;33m[\u001b[0m\u001b[0marr\u001b[0m\u001b[1;33m[\u001b[0m\u001b[0mstart_i\u001b[0m\u001b[1;33m:\u001b[0m\u001b[0mend_i\u001b[0m\u001b[1;33m]\u001b[0m \u001b[1;32mfor\u001b[0m \u001b[0marr\u001b[0m \u001b[1;32min\u001b[0m \u001b[0mdata_list\u001b[0m\u001b[1;33m]\u001b[0m\u001b[1;33m)\u001b[0m\u001b[1;33m\u001b[0m\u001b[1;33m\u001b[0m\u001b[0m\n\u001b[1;32m--> 755\u001b[1;33m                 \u001b[0mexec_insert\u001b[0m\u001b[1;33m(\u001b[0m\u001b[0mconn\u001b[0m\u001b[1;33m,\u001b[0m \u001b[0mkeys\u001b[0m\u001b[1;33m,\u001b[0m \u001b[0mchunk_iter\u001b[0m\u001b[1;33m)\u001b[0m\u001b[1;33m\u001b[0m\u001b[1;33m\u001b[0m\u001b[0m\n\u001b[0m\u001b[0;32m    756\u001b[0m \u001b[1;33m\u001b[0m\u001b[0m\n\u001b[0;32m    757\u001b[0m     def _query_iterator(\n",
      "\u001b[1;32m~\\Anaconda3\\envs\\PythonData\\lib\\site-packages\\pandas\\io\\sql.py\u001b[0m in \u001b[0;36m_execute_insert\u001b[1;34m(self, conn, keys, data_iter)\u001b[0m\n\u001b[0;32m    667\u001b[0m         \"\"\"\n\u001b[0;32m    668\u001b[0m         \u001b[0mdata\u001b[0m \u001b[1;33m=\u001b[0m \u001b[1;33m[\u001b[0m\u001b[0mdict\u001b[0m\u001b[1;33m(\u001b[0m\u001b[0mzip\u001b[0m\u001b[1;33m(\u001b[0m\u001b[0mkeys\u001b[0m\u001b[1;33m,\u001b[0m \u001b[0mrow\u001b[0m\u001b[1;33m)\u001b[0m\u001b[1;33m)\u001b[0m \u001b[1;32mfor\u001b[0m \u001b[0mrow\u001b[0m \u001b[1;32min\u001b[0m \u001b[0mdata_iter\u001b[0m\u001b[1;33m]\u001b[0m\u001b[1;33m\u001b[0m\u001b[1;33m\u001b[0m\u001b[0m\n\u001b[1;32m--> 669\u001b[1;33m         \u001b[0mconn\u001b[0m\u001b[1;33m.\u001b[0m\u001b[0mexecute\u001b[0m\u001b[1;33m(\u001b[0m\u001b[0mself\u001b[0m\u001b[1;33m.\u001b[0m\u001b[0mtable\u001b[0m\u001b[1;33m.\u001b[0m\u001b[0minsert\u001b[0m\u001b[1;33m(\u001b[0m\u001b[1;33m)\u001b[0m\u001b[1;33m,\u001b[0m \u001b[0mdata\u001b[0m\u001b[1;33m)\u001b[0m\u001b[1;33m\u001b[0m\u001b[1;33m\u001b[0m\u001b[0m\n\u001b[0m\u001b[0;32m    670\u001b[0m \u001b[1;33m\u001b[0m\u001b[0m\n\u001b[0;32m    671\u001b[0m     \u001b[1;32mdef\u001b[0m \u001b[0m_execute_insert_multi\u001b[0m\u001b[1;33m(\u001b[0m\u001b[0mself\u001b[0m\u001b[1;33m,\u001b[0m \u001b[0mconn\u001b[0m\u001b[1;33m,\u001b[0m \u001b[0mkeys\u001b[0m\u001b[1;33m,\u001b[0m \u001b[0mdata_iter\u001b[0m\u001b[1;33m)\u001b[0m\u001b[1;33m:\u001b[0m\u001b[1;33m\u001b[0m\u001b[1;33m\u001b[0m\u001b[0m\n",
      "\u001b[1;32m~\\Anaconda3\\envs\\PythonData\\lib\\site-packages\\sqlalchemy\\engine\\base.py\u001b[0m in \u001b[0;36mexecute\u001b[1;34m(self, object_, *multiparams, **params)\u001b[0m\n\u001b[0;32m    982\u001b[0m             )\n\u001b[0;32m    983\u001b[0m         \u001b[1;32melse\u001b[0m\u001b[1;33m:\u001b[0m\u001b[1;33m\u001b[0m\u001b[1;33m\u001b[0m\u001b[0m\n\u001b[1;32m--> 984\u001b[1;33m             \u001b[1;32mreturn\u001b[0m \u001b[0mmeth\u001b[0m\u001b[1;33m(\u001b[0m\u001b[0mself\u001b[0m\u001b[1;33m,\u001b[0m \u001b[0mmultiparams\u001b[0m\u001b[1;33m,\u001b[0m \u001b[0mparams\u001b[0m\u001b[1;33m)\u001b[0m\u001b[1;33m\u001b[0m\u001b[1;33m\u001b[0m\u001b[0m\n\u001b[0m\u001b[0;32m    985\u001b[0m \u001b[1;33m\u001b[0m\u001b[0m\n\u001b[0;32m    986\u001b[0m     \u001b[1;32mdef\u001b[0m \u001b[0m_execute_function\u001b[0m\u001b[1;33m(\u001b[0m\u001b[0mself\u001b[0m\u001b[1;33m,\u001b[0m \u001b[0mfunc\u001b[0m\u001b[1;33m,\u001b[0m \u001b[0mmultiparams\u001b[0m\u001b[1;33m,\u001b[0m \u001b[0mparams\u001b[0m\u001b[1;33m)\u001b[0m\u001b[1;33m:\u001b[0m\u001b[1;33m\u001b[0m\u001b[1;33m\u001b[0m\u001b[0m\n",
      "\u001b[1;32m~\\Anaconda3\\envs\\PythonData\\lib\\site-packages\\sqlalchemy\\sql\\elements.py\u001b[0m in \u001b[0;36m_execute_on_connection\u001b[1;34m(self, connection, multiparams, params)\u001b[0m\n\u001b[0;32m    291\u001b[0m     \u001b[1;32mdef\u001b[0m \u001b[0m_execute_on_connection\u001b[0m\u001b[1;33m(\u001b[0m\u001b[0mself\u001b[0m\u001b[1;33m,\u001b[0m \u001b[0mconnection\u001b[0m\u001b[1;33m,\u001b[0m \u001b[0mmultiparams\u001b[0m\u001b[1;33m,\u001b[0m \u001b[0mparams\u001b[0m\u001b[1;33m)\u001b[0m\u001b[1;33m:\u001b[0m\u001b[1;33m\u001b[0m\u001b[1;33m\u001b[0m\u001b[0m\n\u001b[0;32m    292\u001b[0m         \u001b[1;32mif\u001b[0m \u001b[0mself\u001b[0m\u001b[1;33m.\u001b[0m\u001b[0msupports_execution\u001b[0m\u001b[1;33m:\u001b[0m\u001b[1;33m\u001b[0m\u001b[1;33m\u001b[0m\u001b[0m\n\u001b[1;32m--> 293\u001b[1;33m             \u001b[1;32mreturn\u001b[0m \u001b[0mconnection\u001b[0m\u001b[1;33m.\u001b[0m\u001b[0m_execute_clauseelement\u001b[0m\u001b[1;33m(\u001b[0m\u001b[0mself\u001b[0m\u001b[1;33m,\u001b[0m \u001b[0mmultiparams\u001b[0m\u001b[1;33m,\u001b[0m \u001b[0mparams\u001b[0m\u001b[1;33m)\u001b[0m\u001b[1;33m\u001b[0m\u001b[1;33m\u001b[0m\u001b[0m\n\u001b[0m\u001b[0;32m    294\u001b[0m         \u001b[1;32melse\u001b[0m\u001b[1;33m:\u001b[0m\u001b[1;33m\u001b[0m\u001b[1;33m\u001b[0m\u001b[0m\n\u001b[0;32m    295\u001b[0m             \u001b[1;32mraise\u001b[0m \u001b[0mexc\u001b[0m\u001b[1;33m.\u001b[0m\u001b[0mObjectNotExecutableError\u001b[0m\u001b[1;33m(\u001b[0m\u001b[0mself\u001b[0m\u001b[1;33m)\u001b[0m\u001b[1;33m\u001b[0m\u001b[1;33m\u001b[0m\u001b[0m\n",
      "\u001b[1;32m~\\Anaconda3\\envs\\PythonData\\lib\\site-packages\\sqlalchemy\\engine\\base.py\u001b[0m in \u001b[0;36m_execute_clauseelement\u001b[1;34m(self, elem, multiparams, params)\u001b[0m\n\u001b[0;32m   1101\u001b[0m             \u001b[0mdistilled_params\u001b[0m\u001b[1;33m,\u001b[0m\u001b[1;33m\u001b[0m\u001b[1;33m\u001b[0m\u001b[0m\n\u001b[0;32m   1102\u001b[0m             \u001b[0mcompiled_sql\u001b[0m\u001b[1;33m,\u001b[0m\u001b[1;33m\u001b[0m\u001b[1;33m\u001b[0m\u001b[0m\n\u001b[1;32m-> 1103\u001b[1;33m             \u001b[0mdistilled_params\u001b[0m\u001b[1;33m,\u001b[0m\u001b[1;33m\u001b[0m\u001b[1;33m\u001b[0m\u001b[0m\n\u001b[0m\u001b[0;32m   1104\u001b[0m         )\n\u001b[0;32m   1105\u001b[0m         \u001b[1;32mif\u001b[0m \u001b[0mself\u001b[0m\u001b[1;33m.\u001b[0m\u001b[0m_has_events\u001b[0m \u001b[1;32mor\u001b[0m \u001b[0mself\u001b[0m\u001b[1;33m.\u001b[0m\u001b[0mengine\u001b[0m\u001b[1;33m.\u001b[0m\u001b[0m_has_events\u001b[0m\u001b[1;33m:\u001b[0m\u001b[1;33m\u001b[0m\u001b[1;33m\u001b[0m\u001b[0m\n",
      "\u001b[1;32m~\\Anaconda3\\envs\\PythonData\\lib\\site-packages\\sqlalchemy\\engine\\base.py\u001b[0m in \u001b[0;36m_execute_context\u001b[1;34m(self, dialect, constructor, statement, parameters, *args)\u001b[0m\n\u001b[0;32m   1286\u001b[0m         \u001b[1;32mexcept\u001b[0m \u001b[0mBaseException\u001b[0m \u001b[1;32mas\u001b[0m \u001b[0me\u001b[0m\u001b[1;33m:\u001b[0m\u001b[1;33m\u001b[0m\u001b[1;33m\u001b[0m\u001b[0m\n\u001b[0;32m   1287\u001b[0m             self._handle_dbapi_exception(\n\u001b[1;32m-> 1288\u001b[1;33m                 \u001b[0me\u001b[0m\u001b[1;33m,\u001b[0m \u001b[0mstatement\u001b[0m\u001b[1;33m,\u001b[0m \u001b[0mparameters\u001b[0m\u001b[1;33m,\u001b[0m \u001b[0mcursor\u001b[0m\u001b[1;33m,\u001b[0m \u001b[0mcontext\u001b[0m\u001b[1;33m\u001b[0m\u001b[1;33m\u001b[0m\u001b[0m\n\u001b[0m\u001b[0;32m   1289\u001b[0m             )\n\u001b[0;32m   1290\u001b[0m \u001b[1;33m\u001b[0m\u001b[0m\n",
      "\u001b[1;32m~\\Anaconda3\\envs\\PythonData\\lib\\site-packages\\sqlalchemy\\engine\\base.py\u001b[0m in \u001b[0;36m_handle_dbapi_exception\u001b[1;34m(self, e, statement, parameters, cursor, context)\u001b[0m\n\u001b[0;32m   1480\u001b[0m             \u001b[1;32melif\u001b[0m \u001b[0mshould_wrap\u001b[0m\u001b[1;33m:\u001b[0m\u001b[1;33m\u001b[0m\u001b[1;33m\u001b[0m\u001b[0m\n\u001b[0;32m   1481\u001b[0m                 util.raise_(\n\u001b[1;32m-> 1482\u001b[1;33m                     \u001b[0msqlalchemy_exception\u001b[0m\u001b[1;33m,\u001b[0m \u001b[0mwith_traceback\u001b[0m\u001b[1;33m=\u001b[0m\u001b[0mexc_info\u001b[0m\u001b[1;33m[\u001b[0m\u001b[1;36m2\u001b[0m\u001b[1;33m]\u001b[0m\u001b[1;33m,\u001b[0m \u001b[0mfrom_\u001b[0m\u001b[1;33m=\u001b[0m\u001b[0me\u001b[0m\u001b[1;33m\u001b[0m\u001b[1;33m\u001b[0m\u001b[0m\n\u001b[0m\u001b[0;32m   1483\u001b[0m                 )\n\u001b[0;32m   1484\u001b[0m             \u001b[1;32melse\u001b[0m\u001b[1;33m:\u001b[0m\u001b[1;33m\u001b[0m\u001b[1;33m\u001b[0m\u001b[0m\n",
      "\u001b[1;32m~\\Anaconda3\\envs\\PythonData\\lib\\site-packages\\sqlalchemy\\util\\compat.py\u001b[0m in \u001b[0;36mraise_\u001b[1;34m(***failed resolving arguments***)\u001b[0m\n\u001b[0;32m    176\u001b[0m \u001b[1;33m\u001b[0m\u001b[0m\n\u001b[0;32m    177\u001b[0m         \u001b[1;32mtry\u001b[0m\u001b[1;33m:\u001b[0m\u001b[1;33m\u001b[0m\u001b[1;33m\u001b[0m\u001b[0m\n\u001b[1;32m--> 178\u001b[1;33m             \u001b[1;32mraise\u001b[0m \u001b[0mexception\u001b[0m\u001b[1;33m\u001b[0m\u001b[1;33m\u001b[0m\u001b[0m\n\u001b[0m\u001b[0;32m    179\u001b[0m         \u001b[1;32mfinally\u001b[0m\u001b[1;33m:\u001b[0m\u001b[1;33m\u001b[0m\u001b[1;33m\u001b[0m\u001b[0m\n\u001b[0;32m    180\u001b[0m             \u001b[1;31m# credit to\u001b[0m\u001b[1;33m\u001b[0m\u001b[1;33m\u001b[0m\u001b[1;33m\u001b[0m\u001b[0m\n",
      "\u001b[1;32m~\\Anaconda3\\envs\\PythonData\\lib\\site-packages\\sqlalchemy\\engine\\base.py\u001b[0m in \u001b[0;36m_execute_context\u001b[1;34m(self, dialect, constructor, statement, parameters, *args)\u001b[0m\n\u001b[0;32m   1226\u001b[0m                 \u001b[1;32mif\u001b[0m \u001b[1;32mnot\u001b[0m \u001b[0mevt_handled\u001b[0m\u001b[1;33m:\u001b[0m\u001b[1;33m\u001b[0m\u001b[1;33m\u001b[0m\u001b[0m\n\u001b[0;32m   1227\u001b[0m                     self.dialect.do_executemany(\n\u001b[1;32m-> 1228\u001b[1;33m                         \u001b[0mcursor\u001b[0m\u001b[1;33m,\u001b[0m \u001b[0mstatement\u001b[0m\u001b[1;33m,\u001b[0m \u001b[0mparameters\u001b[0m\u001b[1;33m,\u001b[0m \u001b[0mcontext\u001b[0m\u001b[1;33m\u001b[0m\u001b[1;33m\u001b[0m\u001b[0m\n\u001b[0m\u001b[0;32m   1229\u001b[0m                     )\n\u001b[0;32m   1230\u001b[0m             \u001b[1;32melif\u001b[0m \u001b[1;32mnot\u001b[0m \u001b[0mparameters\u001b[0m \u001b[1;32mand\u001b[0m \u001b[0mcontext\u001b[0m\u001b[1;33m.\u001b[0m\u001b[0mno_parameters\u001b[0m\u001b[1;33m:\u001b[0m\u001b[1;33m\u001b[0m\u001b[1;33m\u001b[0m\u001b[0m\n",
      "\u001b[1;32m~\\Anaconda3\\envs\\PythonData\\lib\\site-packages\\sqlalchemy\\dialects\\postgresql\\psycopg2.py\u001b[0m in \u001b[0;36mdo_executemany\u001b[1;34m(self, cursor, statement, parameters, context)\u001b[0m\n\u001b[0;32m    855\u001b[0m     \u001b[1;32mdef\u001b[0m \u001b[0mdo_executemany\u001b[0m\u001b[1;33m(\u001b[0m\u001b[0mself\u001b[0m\u001b[1;33m,\u001b[0m \u001b[0mcursor\u001b[0m\u001b[1;33m,\u001b[0m \u001b[0mstatement\u001b[0m\u001b[1;33m,\u001b[0m \u001b[0mparameters\u001b[0m\u001b[1;33m,\u001b[0m \u001b[0mcontext\u001b[0m\u001b[1;33m=\u001b[0m\u001b[1;32mNone\u001b[0m\u001b[1;33m)\u001b[0m\u001b[1;33m:\u001b[0m\u001b[1;33m\u001b[0m\u001b[1;33m\u001b[0m\u001b[0m\n\u001b[0;32m    856\u001b[0m         \u001b[1;32mif\u001b[0m \u001b[0mself\u001b[0m\u001b[1;33m.\u001b[0m\u001b[0mexecutemany_mode\u001b[0m \u001b[1;32mis\u001b[0m \u001b[0mEXECUTEMANY_DEFAULT\u001b[0m\u001b[1;33m:\u001b[0m\u001b[1;33m\u001b[0m\u001b[1;33m\u001b[0m\u001b[0m\n\u001b[1;32m--> 857\u001b[1;33m             \u001b[0mcursor\u001b[0m\u001b[1;33m.\u001b[0m\u001b[0mexecutemany\u001b[0m\u001b[1;33m(\u001b[0m\u001b[0mstatement\u001b[0m\u001b[1;33m,\u001b[0m \u001b[0mparameters\u001b[0m\u001b[1;33m)\u001b[0m\u001b[1;33m\u001b[0m\u001b[1;33m\u001b[0m\u001b[0m\n\u001b[0m\u001b[0;32m    858\u001b[0m             \u001b[1;32mreturn\u001b[0m\u001b[1;33m\u001b[0m\u001b[1;33m\u001b[0m\u001b[0m\n\u001b[0;32m    859\u001b[0m \u001b[1;33m\u001b[0m\u001b[0m\n",
      "\u001b[1;31mIntegrityError\u001b[0m: (psycopg2.errors.UniqueViolation) duplicate key value violates unique constraint \"covid_census_pkey\"\nDETAIL:  Key (fips)=(28151) already exists.\n\n[SQL: INSERT INTO covid_census (fips, confirmed, deaths, poverty_rate, state, county) VALUES (%(fips)s, %(confirmed)s, %(deaths)s, %(poverty_rate)s, %(state)s, %(county)s)]\n[parameters: ({'fips': 28151, 'confirmed': 1283, 'deaths': 24, 'poverty_rate': 32.90999447818885, 'state': 'MS', 'county': 'Washington'}, {'fips': 28111, 'confirmed': 179, 'deaths': 7, 'poverty_rate': 18.548387096774192, 'state': 'MS', 'county': 'Perry'}, {'fips': 28019, 'confirmed': 106, 'deaths': 4, 'poverty_rate': 22.689580579257303, 'state': 'MS', 'county': 'Choctaw'}, {'fips': 28057, 'confirmed': 257, 'deaths': 9, 'poverty_rate': 14.599659284497445, 'state': 'MS', 'county': 'Itawamba'}, {'fips': 28015, 'confirmed': 232, 'deaths': 11, 'poverty_rate': 14.581893572909468, 'state': 'MS', 'county': 'Carroll'}, {'fips': 28043, 'confirmed': 770, 'deaths': 17, 'poverty_rate': 23.921421186201712, 'state': 'MS', 'county': 'Grenada'}, {'fips': 28063, 'confirmed': 166, 'deaths': 4, 'poverty_rate': 46.5287231146202, 'state': 'MS', 'county': 'Jefferson'}, {'fips': 28041, 'confirmed': 200, 'deaths': 10, 'poverty_rate': 10.755432404841768, 'state': 'MS', 'county': 'Greene'}  ... displaying 10 of 3141 total bound parameter sets ...  {'fips': 19091, 'confirmed': 82, 'deaths': 1, 'poverty_rate': 11.530420238344135, 'state': 'IA', 'county': 'Humboldt'}, {'fips': 19183, 'confirmed': 280, 'deaths': 9, 'poverty_rate': 9.127037890078128, 'state': 'IA', 'county': 'Washington'})]\n(Background on this error at: http://sqlalche.me/e/gkpj)"
     ]
    }
   ],
   "source": [
    "#get data into SQL\n",
    "rds_connection_string = \"postgres:Ru5tC@hle@localhost:5432/covid\"\n",
    "engine = create_engine(f'postgresql://{rds_connection_string}')\n",
    "engine.table_names()\n",
    "merged_df.to_sql(name='covid_census', con=engine, if_exists='append', index=False)\n",
    "pd.read_sql_query('select * from covid_census', con=engine).head()"
   ]
  },
  {
   "cell_type": "code",
   "execution_count": null,
   "metadata": {},
   "outputs": [],
   "source": []
  }
 ],
 "metadata": {
  "kernelspec": {
   "display_name": "Python 3",
   "language": "python",
   "name": "python3"
  },
  "language_info": {
   "codemirror_mode": {
    "name": "ipython",
    "version": 3
   },
   "file_extension": ".py",
   "mimetype": "text/x-python",
   "name": "python",
   "nbconvert_exporter": "python",
   "pygments_lexer": "ipython3",
   "version": "3.7.6"
  }
 },
 "nbformat": 4,
 "nbformat_minor": 4
}