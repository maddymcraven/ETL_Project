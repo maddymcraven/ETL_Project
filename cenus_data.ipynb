{
 "metadata": {
  "language_info": {
   "codemirror_mode": {
    "name": "ipython",
    "version": 3
   },
   "file_extension": ".py",
   "mimetype": "text/x-python",
   "name": "python",
   "nbconvert_exporter": "python",
   "pygments_lexer": "ipython3",
   "version": 3
  },
  "orig_nbformat": 2,
  "kernelspec": {
   "name": "python_defaultSpec_1596296700374",
   "display_name": "Python 3.6.10 64-bit ('PythonData': conda)"
  }
 },
 "nbformat": 4,
 "nbformat_minor": 2,
 "cells": [
  {
   "cell_type": "code",
   "execution_count": 11,
   "metadata": {},
   "outputs": [],
   "source": [
    "from census import Census\n",
    "from config_file import (census_key)\n",
    "import pandas as pd\n",
    "import us\n",
    "import requests\n",
    "\n",
    "# Census API Key\n",
    "c = Census(census_key, year=2018)\n",
    "\n",
    "# US states abbrv mapping\n",
    "states = us.states.mapping('abbr', 'name')\n",
    "states = {state: abbrev for abbrev, state in states.items()}"
   ]
  },
  {
   "cell_type": "code",
   "execution_count": 8,
   "metadata": {},
   "outputs": [
    {
     "output_type": "execute_result",
     "data": {
      "text/plain": "                                Name State ID County ID  Population  \\\n0     Washington County, Mississippi       28       151     47086.0   \n1          Perry County, Mississippi       28       111     12028.0   \n2        Choctaw County, Mississippi       28       019      8321.0   \n3       Itawamba County, Mississippi       28       057     23480.0   \n4        Carroll County, Mississippi       28       015     10129.0   \n...                              ...      ...       ...         ...   \n3215            Clayton County, Iowa       19       043     17672.0   \n3216        Buena Vista County, Iowa       19       021     20260.0   \n3217            Guthrie County, Iowa       19       077     10674.0   \n3218           Humboldt County, Iowa       19       091      9566.0   \n3219         Washington County, Iowa       19       183     22143.0   \n\n      Poverty Rate  \n0        32.909994  \n1        18.548387  \n2        22.689581  \n3        14.599659  \n4        14.581894  \n...            ...  \n3215      8.850158  \n3216     12.374136  \n3217     11.008057  \n3218     11.530420  \n3219      9.127038  \n\n[3219 rows x 5 columns]",
      "text/html": "<div>\n<style scoped>\n    .dataframe tbody tr th:only-of-type {\n        vertical-align: middle;\n    }\n\n    .dataframe tbody tr th {\n        vertical-align: top;\n    }\n\n    .dataframe thead th {\n        text-align: right;\n    }\n</style>\n<table border=\"1\" class=\"dataframe\">\n  <thead>\n    <tr style=\"text-align: right;\">\n      <th></th>\n      <th>Name</th>\n      <th>State ID</th>\n      <th>County ID</th>\n      <th>Population</th>\n      <th>Poverty Rate</th>\n    </tr>\n  </thead>\n  <tbody>\n    <tr>\n      <th>0</th>\n      <td>Washington County, Mississippi</td>\n      <td>28</td>\n      <td>151</td>\n      <td>47086.0</td>\n      <td>32.909994</td>\n    </tr>\n    <tr>\n      <th>1</th>\n      <td>Perry County, Mississippi</td>\n      <td>28</td>\n      <td>111</td>\n      <td>12028.0</td>\n      <td>18.548387</td>\n    </tr>\n    <tr>\n      <th>2</th>\n      <td>Choctaw County, Mississippi</td>\n      <td>28</td>\n      <td>019</td>\n      <td>8321.0</td>\n      <td>22.689581</td>\n    </tr>\n    <tr>\n      <th>3</th>\n      <td>Itawamba County, Mississippi</td>\n      <td>28</td>\n      <td>057</td>\n      <td>23480.0</td>\n      <td>14.599659</td>\n    </tr>\n    <tr>\n      <th>4</th>\n      <td>Carroll County, Mississippi</td>\n      <td>28</td>\n      <td>015</td>\n      <td>10129.0</td>\n      <td>14.581894</td>\n    </tr>\n    <tr>\n      <th>...</th>\n      <td>...</td>\n      <td>...</td>\n      <td>...</td>\n      <td>...</td>\n      <td>...</td>\n    </tr>\n    <tr>\n      <th>3215</th>\n      <td>Clayton County, Iowa</td>\n      <td>19</td>\n      <td>043</td>\n      <td>17672.0</td>\n      <td>8.850158</td>\n    </tr>\n    <tr>\n      <th>3216</th>\n      <td>Buena Vista County, Iowa</td>\n      <td>19</td>\n      <td>021</td>\n      <td>20260.0</td>\n      <td>12.374136</td>\n    </tr>\n    <tr>\n      <th>3217</th>\n      <td>Guthrie County, Iowa</td>\n      <td>19</td>\n      <td>077</td>\n      <td>10674.0</td>\n      <td>11.008057</td>\n    </tr>\n    <tr>\n      <th>3218</th>\n      <td>Humboldt County, Iowa</td>\n      <td>19</td>\n      <td>091</td>\n      <td>9566.0</td>\n      <td>11.530420</td>\n    </tr>\n    <tr>\n      <th>3219</th>\n      <td>Washington County, Iowa</td>\n      <td>19</td>\n      <td>183</td>\n      <td>22143.0</td>\n      <td>9.127038</td>\n    </tr>\n  </tbody>\n</table>\n<p>3219 rows × 5 columns</p>\n</div>"
     },
     "metadata": {},
     "execution_count": 8
    }
   ],
   "source": [
    "# Census search for poverty data based on state, county, fips data\n",
    "census_data_fips = c.acs5.get((\"NAME\", \"B01003_001E\", \"B17001_002E\"), {'for': 'state:*', 'for':'county:*'})\n",
    "\n",
    "# Convert to DataFrame\n",
    "census_fips_pd = pd.DataFrame(census_data_fips)\n",
    "\n",
    "# Column Reordering\n",
    "census_fips_pd = census_fips_pd.rename(columns={\"B01003_001E\": \"Population\",\n",
    "                                      \"B17001_002E\": \"Poverty Count\",\n",
    "                                      \"NAME\": \"Name\",\n",
    "                                      \"state\": \"State ID\",\n",
    "                                      \"county\": \"County ID\"})\n",
    "\n",
    "# Drop any rows with NAN\n",
    "census_fips_pd.dropna(how='any', inplace=True)\n",
    "\n",
    "# Add in Poverty Rate (Poverty Count / Population)\n",
    "census_fips_pd[\"Poverty Rate\"] = 100 * (census_fips_pd[\"Poverty Count\"].astype(\n",
    "        int) / census_fips_pd[\"Population\"].astype(int))\n",
    "\n",
    "# Final DataFrame\n",
    "census_fips_pd = census_fips_pd[[\"Name\", \"State ID\", \"County ID\", \"Population\", \"Poverty Rate\"]]\n",
    "\n",
    "census_fips_pd"
   ]
  },
  {
   "cell_type": "code",
   "execution_count": 14,
   "metadata": {},
   "outputs": [
    {
     "output_type": "execute_result",
     "data": {
      "text/plain": "     State       County   FIPS  Population  Poverty Rate\n0       MS   Washington  28151     47086.0     32.909994\n1       MS        Perry  28111     12028.0     18.548387\n2       MS      Choctaw  28019      8321.0     22.689581\n3       MS     Itawamba  28057     23480.0     14.599659\n4       MS      Carroll  28015     10129.0     14.581894\n...    ...          ...    ...         ...           ...\n3215    IA      Clayton  19043     17672.0      8.850158\n3216    IA  Buena Vista  19021     20260.0     12.374136\n3217    IA      Guthrie  19077     10674.0     11.008057\n3218    IA     Humboldt  19091      9566.0     11.530420\n3219    IA   Washington  19183     22143.0      9.127038\n\n[3141 rows x 5 columns]",
      "text/html": "<div>\n<style scoped>\n    .dataframe tbody tr th:only-of-type {\n        vertical-align: middle;\n    }\n\n    .dataframe tbody tr th {\n        vertical-align: top;\n    }\n\n    .dataframe thead th {\n        text-align: right;\n    }\n</style>\n<table border=\"1\" class=\"dataframe\">\n  <thead>\n    <tr style=\"text-align: right;\">\n      <th></th>\n      <th>State</th>\n      <th>County</th>\n      <th>FIPS</th>\n      <th>Population</th>\n      <th>Poverty Rate</th>\n    </tr>\n  </thead>\n  <tbody>\n    <tr>\n      <th>0</th>\n      <td>MS</td>\n      <td>Washington</td>\n      <td>28151</td>\n      <td>47086.0</td>\n      <td>32.909994</td>\n    </tr>\n    <tr>\n      <th>1</th>\n      <td>MS</td>\n      <td>Perry</td>\n      <td>28111</td>\n      <td>12028.0</td>\n      <td>18.548387</td>\n    </tr>\n    <tr>\n      <th>2</th>\n      <td>MS</td>\n      <td>Choctaw</td>\n      <td>28019</td>\n      <td>8321.0</td>\n      <td>22.689581</td>\n    </tr>\n    <tr>\n      <th>3</th>\n      <td>MS</td>\n      <td>Itawamba</td>\n      <td>28057</td>\n      <td>23480.0</td>\n      <td>14.599659</td>\n    </tr>\n    <tr>\n      <th>4</th>\n      <td>MS</td>\n      <td>Carroll</td>\n      <td>28015</td>\n      <td>10129.0</td>\n      <td>14.581894</td>\n    </tr>\n    <tr>\n      <th>...</th>\n      <td>...</td>\n      <td>...</td>\n      <td>...</td>\n      <td>...</td>\n      <td>...</td>\n    </tr>\n    <tr>\n      <th>3215</th>\n      <td>IA</td>\n      <td>Clayton</td>\n      <td>19043</td>\n      <td>17672.0</td>\n      <td>8.850158</td>\n    </tr>\n    <tr>\n      <th>3216</th>\n      <td>IA</td>\n      <td>Buena Vista</td>\n      <td>19021</td>\n      <td>20260.0</td>\n      <td>12.374136</td>\n    </tr>\n    <tr>\n      <th>3217</th>\n      <td>IA</td>\n      <td>Guthrie</td>\n      <td>19077</td>\n      <td>10674.0</td>\n      <td>11.008057</td>\n    </tr>\n    <tr>\n      <th>3218</th>\n      <td>IA</td>\n      <td>Humboldt</td>\n      <td>19091</td>\n      <td>9566.0</td>\n      <td>11.530420</td>\n    </tr>\n    <tr>\n      <th>3219</th>\n      <td>IA</td>\n      <td>Washington</td>\n      <td>19183</td>\n      <td>22143.0</td>\n      <td>9.127038</td>\n    </tr>\n  </tbody>\n</table>\n<p>3141 rows × 5 columns</p>\n</div>"
     },
     "metadata": {},
     "execution_count": 14
    }
   ],
   "source": [
    "# Data Cleanup\n",
    "def get_county(address):\n",
    "    county = address.split(\"County\")[0].strip(\" \")\n",
    "    county = strip_state(county)\n",
    "    return county\n",
    "\n",
    "def strip_state(address):\n",
    "    return address.split(\",\")[0].strip(\" \")\n",
    "\n",
    "def get_state(address):\n",
    "    state = address.split(\",\")[1]\n",
    "    # Special case for District of Columbia\n",
    "    state = state[1:]\n",
    "    return state\n",
    "\n",
    "census_fips_pd['County'] = census_fips_pd['Name'].apply(lambda x: f\"{get_county(x)}\")\n",
    "census_fips_pd['State Name'] = census_fips_pd['Name'].apply(lambda x: f\"{get_state(x)}\")\n",
    "\n",
    "#Drop PR\n",
    "indicesPR = census_fips_pd.index[census_fips_pd['State ID'] == '72' ].tolist()\n",
    "census_fips_pd.drop(indicesPR, inplace=True)\n",
    "\n",
    "# Get state abbreviations\n",
    "census_fips_pd['State'] = census_fips_pd['State Name'].map(states)\n",
    "\n",
    "census_clean_pd = census_fips_pd.drop(['Name', 'State Name'], inplace=False, axis = 1)\n",
    "\n",
    "census_clean_pd = census_clean_pd[[\"State\", \"State ID\", \"County\", \"County ID\", \"Population\", \"Poverty Rate\"]]\n",
    "\n",
    "census_clean_pd['FIPS'] = census_clean_pd['State ID'] + census_clean_pd['County ID']\n",
    "\n",
    "census_clean_pd = census_clean_pd[[\"State\", \"County\", \"FIPS\", \"Population\", \"Poverty Rate\"]]\n",
    "\n",
    "census_clean_pd"
   ]
  },
  {
   "cell_type": "code",
   "execution_count": null,
   "metadata": {},
   "outputs": [],
   "source": []
  }
 ]
}